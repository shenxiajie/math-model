{
 "cells": [
  {
   "cell_type": "code",
   "execution_count": 1,
   "metadata": {},
   "outputs": [
    {
     "name": "stdout",
     "output_type": "stream",
     "text": [
      "hello world\n",
      "god\n"
     ]
    }
   ],
   "source": [
    "print('hello world')\n",
    "print('god')"
   ]
  },
  {
   "cell_type": "markdown",
   "metadata": {},
   "source": [
    "this is juypter book. In the following learning process, I will use it to do notes"
   ]
  },
  {
   "cell_type": "markdown",
   "metadata": {},
   "source": [
    "# python crash course\n",
    "## Part1 basics\n",
    "### Chapter 2: Vairables and Simple Data Types\n",
    "#### What Really Happends When You Run helloworld.py\n",
    "As it turns out, Python does a fair amount of work, even when it turns a simple program. When you run the code, you should see this output:\n",
    "hello world\n",
    "\n",
    "the ending **.py** indicates that the file is a **Python program**. Your editor then runs the file through through the**Python interpreter**， which reads through the program and determineswhat what each word in the program means. For example, when the parenter sees the world `print`, it prints to the screen whatever is inside the parentheses.\n",
    "\n",
    "As you write your programs, your editor highlights different parts of your program in different ways. For example, it recognizes that `print` is the name of a function and displays that word in slight yellow. It recognizes that `'hello world'` is not Python code and displays that pharse in orange. This feature is called ***syntax highlighting*** and is quite useful as you start towrite your own programs.  \n",
    "\n"
   ]
  },
  {
   "cell_type": "markdown",
   "metadata": {},
   "source": [
    "\n",
    "#### Vairables\n",
    "Add a new line at the beginning of the file, and modify the second line:\n"
   ]
  },
  {
   "cell_type": "code",
   "execution_count": 2,
   "metadata": {},
   "outputs": [
    {
     "name": "stdout",
     "output_type": "stream",
     "text": [
      "hello Python world!\n"
     ]
    }
   ],
   "source": [
    "message=\"hello Python world!\"\n",
    "print(message)"
   ]
  },
  {
   "cell_type": "markdown",
   "metadata": {},
   "source": [
    "We've added a ***vairable*** named`message`. Every vairable holds a `value`, which is the information associated with that vairable. In this case the value is the text `Hello Python world!`\n",
    "\n",
    "Adding a vairable makes a little more work for the **Python interpreter**. When it processes the first time, it associates the text `Hello Python world!` with the vaieable `message`. When it reaches the second line, it prints the value associated with `message` to the screen.\n"
   ]
  },
  {
   "cell_type": "code",
   "execution_count": 3,
   "metadata": {},
   "outputs": [
    {
     "name": "stdout",
     "output_type": "stream",
     "text": [
      "hello Python world!\n",
      "Hello Python Crash Course world!\n"
     ]
    }
   ],
   "source": [
    "message=\"hello Python world!\"\n",
    "print(message)\n",
    "\n",
    "message=\"Hello Python Crash Course world!\"\n",
    "print(message)"
   ]
  },
  {
   "cell_type": "markdown",
   "metadata": {},
   "source": [
    "Can change the value of a vairable in program at any time, and Python will always keep track of its current value."
   ]
  },
  {
   "cell_type": "markdown",
   "metadata": {},
   "source": [
    "##### Naming and using Vairables\n",
    "When using vairables in Python, a few rules and guidelines is needed to be adhered. Breaking them will cause errors; other guidelines just help you write code that's easier to read and understand.\n",
    "\n",
    "Following vairable rukes in mind:  \n",
    "Vairable names can **contain only letters, numbers, and underscores**. Can't start with a number.  \n",
    "\n",
    "Spaces are not allowed in vairable names, but underscores can be used to separate words in vairables names.\n",
    "\n",
    "Avoid using Python keywords and function names as vairable names; that is, do not use words that Python has reserved for a particular programmatic puepose, such as the word `print`.\n",
    "\n",
    "Be careful when using the lowercase letter *l* and the uppercase letter *O*\n",
    "\n",
    "##### Avoiding Name Errors When Using Vairables\n"
   ]
  },
  {
   "cell_type": "markdown",
   "metadata": {},
   "source": [
    "Every programmer makes mistakes, and most make mistakes everyday. Although good programmers might create errors, they also know how to respond to those errors efficiently. Let's look at an error you're likely to make earlyon and learn how to fix it.\n",
    "We'll write some code that generates an error on purpose. Enter the following code, including the misspelled word **mesage** shown in bold:"
   ]
  },
  {
   "cell_type": "code",
   "execution_count": 4,
   "metadata": {},
   "outputs": [
    {
     "ename": "NameError",
     "evalue": "name 'mesage' is not defined",
     "output_type": "error",
     "traceback": [
      "\u001b[1;31m---------------------------------------------------------------------------\u001b[0m",
      "\u001b[1;31mNameError\u001b[0m                                 Traceback (most recent call last)",
      "Cell \u001b[1;32mIn[4], line 2\u001b[0m\n\u001b[0;32m      1\u001b[0m message\u001b[38;5;241m=\u001b[39m\u001b[38;5;124m\"\u001b[39m\u001b[38;5;124mhello Python Crash Course reader!\u001b[39m\u001b[38;5;124m\"\u001b[39m\n\u001b[1;32m----> 2\u001b[0m \u001b[38;5;28mprint\u001b[39m(mesage)\n",
      "\u001b[1;31mNameError\u001b[0m: name 'mesage' is not defined"
     ]
    }
   ],
   "source": [
    "message=\"hello Python Crash Course reader!\"\n",
    "print(mesage)"
   ]
  },
  {
   "cell_type": "markdown",
   "metadata": {},
   "source": [
    "When an error occurs in program, the Python interpreter does its best to help you figure out where the problem is. The interpreter provides a traceback when a program cannot run successfully. A **traceback** is record of where the interpreter ran into trouble when trying to execute your code. "
   ]
  },
  {
   "cell_type": "markdown",
   "metadata": {},
   "source": [
    "Computers are strict, but they disregard  good and bad spelling . As a result, you don't need to consider English spelling and grammar rules when you're trying to create variable names and writing code.\n",
    "Many programming errors are simple, single-character typos in one line of a program. If you're spending a long time searching for one of these errors, know that you're in good company. Many experienced and talented programmers spend hours hunting down these kinds of tiny errors. Try to laugh about it and move on, knowing it will happend frequently throughout your programming life."
   ]
  },
  {
   "cell_type": "markdown",
   "metadata": {},
   "source": [
    "Because most programs define and gather some sort of data, and then to do something useful with it, it helps to classify different types of data. The first data type we'll look at is the ***String***. String are quite simple at first glance, but you can use them in many different ways.\n",
    "A **string** is simply **a series of characters**. Anything **inside quotes** is considered a string in Python, and you can use **single or double quotes around** your strings like this:"
   ]
  },
  {
   "cell_type": "code",
   "execution_count": 4,
   "metadata": {},
   "outputs": [
    {
     "data": {
      "text/plain": [
       "\"One of the Python's strengths is its diverse and supportive community\""
      ]
     },
     "execution_count": 4,
     "metadata": {},
     "output_type": "execute_result"
    }
   ],
   "source": [
    "'I told my friend, \"Python is my favourite language\"'\n",
    "\"The language 'Python' is named after Monty Python, not the snake\"\n",
    "\"One of the Python's strengths is its diverse and supportive community\""
   ]
  },
  {
   "cell_type": "markdown",
   "metadata": {},
   "source": [
    "#### String\n",
    "##### Changing Case in a String with Methods\n",
    "One of the simplest tasks you can do with strings is change the case of the words in a string. Look at the following code."
   ]
  },
  {
   "cell_type": "code",
   "execution_count": 5,
   "metadata": {},
   "outputs": [
    {
     "name": "stdout",
     "output_type": "stream",
     "text": [
      "Ada Lovelace\n"
     ]
    }
   ],
   "source": [
    "name=\"ada lovelace\"\n",
    "print(name.title())"
   ]
  },
  {
   "cell_type": "markdown",
   "metadata": {},
   "source": [
    "In this example, the lowercase string \"ada lovelace\" is stored in the vairable **name**. The method **title()** appears after the vairable in the **print()** statement. A ***method*** is **an action that Python can perform on a piece of data**. The dot(.) after **name** in **name.title()** tells Python to make the **title()** method act on the vairable **name**  Every method is followed by **a set of parentheses**, because methods often need additional information to do their work. That information is provided inside the parentheses. The **title()** function doesn’t need any additional information, so its parentheses are empty.\n",
    "Several other useful methods are available for dealing with case as well. For example, you can change a string to all uppercase or all lowercase letters like this "
   ]
  },
  {
   "cell_type": "code",
   "execution_count": 12,
   "metadata": {},
   "outputs": [
    {
     "name": "stdout",
     "output_type": "stream",
     "text": [
      "THE WORLD IS BEAUTIFUL!\n",
      "the world is beautiful!\n"
     ]
    }
   ],
   "source": [
    "name=\"The world is beautiful!\"\n",
    "print(name.upper())\n",
    "print(name.lower())"
   ]
  },
  {
   "cell_type": "markdown",
   "metadata": {},
   "source": [
    "The **lower()** method is particularly useful for storing data. Many times you won’t want to trust the capitalization that your users provide, so you’ll \n",
    "convert strings to lowercase before storing them. Then when you want to display the information, you’ll use the case that makes the most sense for each string."
   ]
  },
  {
   "cell_type": "markdown",
   "metadata": {},
   "source": [
    "##### Combining or Concatenating Strings\n",
    "It's often useful to combine strings. For example, you might want to store a first name and a last name in separate vairables, and then combine them when you want to display someone's full name"
   ]
  },
  {
   "cell_type": "code",
   "execution_count": 14,
   "metadata": {},
   "outputs": [
    {
     "name": "stdout",
     "output_type": "stream",
     "text": [
      " physics beauty\n"
     ]
    }
   ],
   "source": [
    "first_name=\" physics\"\n",
    "last_name=\"beauty\"\n",
    "full_name=first_name+\" \"+last_name\n",
    "print(full_name)"
   ]
  },
  {
   "cell_type": "markdown",
   "metadata": {},
   "source": [
    "Python uses the plus symbol(+) to combine strings. In this example, we use + to create a full name by combining a **first_name**, a space, and a **last_name**. The method of combining strings is called ***concatenation***. You can use concatenation to compose complete messages using the information you've stored in a vairable. Let's look at an example:"
   ]
  },
  {
   "cell_type": "code",
   "execution_count": 16,
   "metadata": {},
   "outputs": [
    {
     "name": "stdout",
     "output_type": "stream",
     "text": [
      "The  Physics Beauty! \n"
     ]
    }
   ],
   "source": [
    "print(\"The \"+full_name.title()+\"! \")"
   ]
  },
  {
   "cell_type": "markdown",
   "metadata": {},
   "source": [
    "##### Adding Whitespace to Strings with Tabs or Newlines\n",
    "In programming,***whitespace refers to any nonprinting character***, such as spaces, tabs, and end-of-line symbols. You can use whitespace to organize your output so it’s easier for users to read.\n",
    "To add a tab to your text, use the character combination **\\t** as shown at:"
   ]
  },
  {
   "cell_type": "code",
   "execution_count": 19,
   "metadata": {},
   "outputs": [
    {
     "name": "stdout",
     "output_type": "stream",
     "text": [
      "\tPython\n",
      "Python\n"
     ]
    }
   ],
   "source": [
    "print(\"\\tPython\")\n",
    "print(\"Python\")"
   ]
  },
  {
   "cell_type": "markdown",
   "metadata": {},
   "source": [
    "To add a newline in a string, use the character combination **\\n**:"
   ]
  },
  {
   "cell_type": "code",
   "execution_count": 22,
   "metadata": {},
   "outputs": [
    {
     "name": "stdout",
     "output_type": "stream",
     "text": [
      "\tThe\n",
      "\tWorld\n",
      "\tBeauty\n"
     ]
    }
   ],
   "source": [
    "print(\"\\tThe\\n\\tWorld\\n\\tBeauty\")"
   ]
  },
  {
   "cell_type": "markdown",
   "metadata": {},
   "source": [
    "##### Stripping Whgitespace\n",
    "Extra whitespace can be confusing in your programs. To programmers \n",
    "'python' and 'python ' look pretty much the same. But to a program, they \n",
    "are two different strings. Python detects the extra space in 'python ' and considers it significant unless you tell it otherwise.\n",
    "It’s important to think about whitespace, because often you’ll want to \n",
    "compare two strings to determine whether they are the same. For example, \n",
    "one important instance might involve checking people’s usernames when \n",
    "they log in to a website. Extra whitespace can be confusing in much simpler situations as well. Fortunately, Python makes it easy to eliminate extraneous whitespace from data that people enter.Python can look for extra whitespace on the right and left sides of a string. To ensure that no whitespace exists at the right end of a string, use the **rstrip()** method."
   ]
  },
  {
   "cell_type": "markdown",
   "metadata": {},
   "source": [
    "Can also strip whitespace from the left side of a string using the \n",
    "**lstrip()** method or strip whitespace from both sides at once using **strip()**:"
   ]
  },
  {
   "cell_type": "code",
   "execution_count": 7,
   "metadata": {},
   "outputs": [
    {
     "name": "stdout",
     "output_type": "stream",
     "text": [
      "PYTHON\n",
      "  PYTHON\n",
      "PYTHON    \n"
     ]
    }
   ],
   "source": [
    "language=\"  PYTHON    \"\n",
    "lan1=language.strip()\n",
    "lan2=language.rstrip()\n",
    "lan3=language.lstrip()\n",
    "print(lan1+\"\\n\"+lan2+\"\\n\"+lan3)"
   ]
  },
  {
   "cell_type": "markdown",
   "metadata": {},
   "source": [
    "##### Avoid Syntax Errors with Strings\n",
    "This syntax error indicates that the interpreter doesn’t recognize something in the code as valid Python code."
   ]
  },
  {
   "cell_type": "code",
   "execution_count": 9,
   "metadata": {},
   "outputs": [
    {
     "ename": "SyntaxError",
     "evalue": "unterminated string literal (detected at line 2) (2897244766.py, line 2)",
     "output_type": "error",
     "traceback": [
      "\u001b[1;36m  Cell \u001b[1;32mIn[9], line 2\u001b[1;36m\u001b[0m\n\u001b[1;33m    message2='One of Python's strengths is its diverse community.'\u001b[0m\n\u001b[1;37m                                                                 ^\u001b[0m\n\u001b[1;31mSyntaxError\u001b[0m\u001b[1;31m:\u001b[0m unterminated string literal (detected at line 2)\n"
     ]
    }
   ],
   "source": [
    "message1=\"One of Python's strengths is its diverse community.\"\n",
    "message2='One of Python's strengths is its diverse community.'"
   ]
  },
  {
   "cell_type": "markdown",
   "metadata": {},
   "source": [
    "#### Numbers\n",
    "Python treats numbers in several different ways, depending on how they are being used. Let’s first look at how Python manages integers, because they are the simplest to work with.\n",
    "##### Integers\n",
    "You can **add (+), subtract (-), multiply (*), and divide (/)** integers in Python. Python uses two multiplication symbols to represent **exponents**:"
   ]
  },
  {
   "cell_type": "code",
   "execution_count": 14,
   "metadata": {},
   "outputs": [
    {
     "name": "stdout",
     "output_type": "stream",
     "text": [
      "5\n",
      "1\n",
      "6\n",
      "1.5\n",
      "9\n"
     ]
    }
   ],
   "source": [
    "print(2+3)\n",
    "print(3-2)\n",
    "print(2*3)\n",
    "print(3/2)\n",
    "print(3**2)"
   ]
  },
  {
   "cell_type": "markdown",
   "metadata": {},
   "source": [
    "##### Floats\n",
    "Python calls any number with a **decimal point** a ***float***. This term is used in most programming languages, and it refers to the fact that a decimal point can appear at any position in a number. "
   ]
  },
  {
   "cell_type": "code",
   "execution_count": 15,
   "metadata": {},
   "outputs": [
    {
     "data": {
      "text/plain": [
       "0.30000000000000004"
      ]
     },
     "execution_count": 15,
     "metadata": {},
     "output_type": "execute_result"
    }
   ],
   "source": [
    "0.2+0.1"
   ]
  },
  {
   "cell_type": "markdown",
   "metadata": {},
   "source": [
    "This happens in all languages and is of little concern. Python tries to find a way to represent the result as precisely as possible, which is sometimes difficult given how computers have to represent numbers internally. Just ignore the extra decimal places for now; you’ll learn ways to deal with the extra places when you need to in the projects in Part II."
   ]
  },
  {
   "cell_type": "markdown",
   "metadata": {},
   "source": [
    "##### Avoiding Type Errors with the str() Function"
   ]
  },
  {
   "cell_type": "code",
   "execution_count": 16,
   "metadata": {},
   "outputs": [
    {
     "ename": "TypeError",
     "evalue": "can only concatenate str (not \"int\") to str",
     "output_type": "error",
     "traceback": [
      "\u001b[1;31m---------------------------------------------------------------------------\u001b[0m",
      "\u001b[1;31mTypeError\u001b[0m                                 Traceback (most recent call last)",
      "Cell \u001b[1;32mIn[16], line 2\u001b[0m\n\u001b[0;32m      1\u001b[0m age\u001b[38;5;241m=\u001b[39m\u001b[38;5;241m19\u001b[39m\n\u001b[1;32m----> 2\u001b[0m message\u001b[38;5;241m=\u001b[39m\u001b[38;5;124m\"\u001b[39m\u001b[38;5;124mHappy\u001b[39m\u001b[38;5;124m\"\u001b[39m\u001b[38;5;241m+\u001b[39mage\u001b[38;5;241m+\u001b[39m\u001b[38;5;124m\"\u001b[39m\u001b[38;5;124mrd Birthday!\u001b[39m\u001b[38;5;124m\"\u001b[39m\n\u001b[0;32m      3\u001b[0m \u001b[38;5;28mprint\u001b[39m(message)\n",
      "\u001b[1;31mTypeError\u001b[0m: can only concatenate str (not \"int\") to str"
     ]
    }
   ],
   "source": [
    "age=19\n",
    "message=\"Happy\"+age+\"rd Birthday!\"\n",
    "print(message)"
   ]
  },
  {
   "cell_type": "markdown",
   "metadata": {},
   "source": [
    "This is a ***type error***. It means Python can’t recognize the kind of information you’re using. In this example Python sees at that you’re using a variable that has an integer value (int), but it’s not sure how to interpret that value. Python knows that the variable could represent either the numerical value 19 or the characters 1 and 9. When you use integers within strings like this, you need to specify explicitly that you want Python to use the integer as a string of characters. You can do this by wrapping the variable in the **str()** function, which tells Python to represent non-string values as strings:"
   ]
  },
  {
   "cell_type": "code",
   "execution_count": 19,
   "metadata": {},
   "outputs": [
    {
     "name": "stdout",
     "output_type": "stream",
     "text": [
      "Happy 19rd Birthday!\n"
     ]
    }
   ],
   "source": [
    "message=\"Happy \"+str(age)+\"rd Birthday!\"\n",
    "print(message)"
   ]
  },
  {
   "cell_type": "markdown",
   "metadata": {},
   "source": [
    "#### Comments\n",
    "When you’re determining whether to write a comment, ask yourself if you had to consider several approaches before coming up with a reasonable way to make something work; if so, write a comment about your solution. It’s much easier to delete extra comments later on than it is to go back and write comments for a sparsely commented program."
   ]
  },
  {
   "cell_type": "code",
   "execution_count": 20,
   "metadata": {},
   "outputs": [
    {
     "name": "stdout",
     "output_type": "stream",
     "text": [
      "hello world\n"
     ]
    }
   ],
   "source": [
    "# it will print hello world\n",
    "print(\"hello world\")"
   ]
  },
  {
   "cell_type": "markdown",
   "metadata": {},
   "source": [
    "#### The zens of python"
   ]
  },
  {
   "cell_type": "code",
   "execution_count": 21,
   "metadata": {},
   "outputs": [
    {
     "name": "stdout",
     "output_type": "stream",
     "text": [
      "The Zen of Python, by Tim Peters\n",
      "\n",
      "Beautiful is better than ugly.\n",
      "Explicit is better than implicit.\n",
      "Simple is better than complex.\n",
      "Complex is better than complicated.\n",
      "Flat is better than nested.\n",
      "Sparse is better than dense.\n",
      "Readability counts.\n",
      "Special cases aren't special enough to break the rules.\n",
      "Although practicality beats purity.\n",
      "Errors should never pass silently.\n",
      "Unless explicitly silenced.\n",
      "In the face of ambiguity, refuse the temptation to guess.\n",
      "There should be one-- and preferably only one --obvious way to do it.\n",
      "Although that way may not be obvious at first unless you're Dutch.\n",
      "Now is better than never.\n",
      "Although never is often better than *right* now.\n",
      "If the implementation is hard to explain, it's a bad idea.\n",
      "If the implementation is easy to explain, it may be a good idea.\n",
      "Namespaces are one honking great idea -- let's do more of those!\n"
     ]
    }
   ],
   "source": [
    "import this"
   ]
  },
  {
   "cell_type": "markdown",
   "metadata": {},
   "source": [
    "### Chapter3 Introducing Lists"
   ]
  },
  {
   "cell_type": "markdown",
   "metadata": {},
   "source": [
    "A ***list*** is **a collection of items in aparticular order**. You can make a list that includes the letters of the alphabet. You can put anything you want into a list, and the items in your list don't have to be related in any particular way. Because a list usually contains more than one element, it is a good idea to make the name of your list **plural**, such as *letters, digits, or names*\n",
    "In Python, square brackets ([]) indicate a list, and individual elements in the list are separated by commas. Here’s a simple example of a list that \n",
    "contains a few kinds of bicycles:"
   ]
  },
  {
   "cell_type": "code",
   "execution_count": 46,
   "metadata": {},
   "outputs": [
    {
     "name": "stdout",
     "output_type": "stream",
     "text": [
      "['trek', 'cannondable', 'redline', 'specialized']\n"
     ]
    }
   ],
   "source": [
    "bicycles=[\"trek\",\"cannondable\",\"redline\",\"specialized\"]\n",
    "print(bicycles)"
   ]
  },
  {
   "cell_type": "markdown",
   "metadata": {},
   "source": [
    "#### Accessing Elements in a List\n",
    "Lists are ordered collections, so you can access any element in a list by telling Python the position, or index, of the item desired. To access an element in a list, write the name of the list **followed by the index of the item enclosed in square brackets**."
   ]
  },
  {
   "cell_type": "code",
   "execution_count": 2,
   "metadata": {},
   "outputs": [
    {
     "name": "stdout",
     "output_type": "stream",
     "text": [
      "trek\n"
     ]
    }
   ],
   "source": [
    "print(bicycles[0])"
   ]
  },
  {
   "cell_type": "code",
   "execution_count": 4,
   "metadata": {},
   "outputs": [
    {
     "name": "stdout",
     "output_type": "stream",
     "text": [
      "Redline\n",
      "specialized\n"
     ]
    }
   ],
   "source": [
    "print(bicycles[2].title())\n",
    "print(bicycles[-1])"
   ]
  },
  {
   "cell_type": "markdown",
   "metadata": {},
   "source": [
    "#### index Positions Start at0, Not 1\n",
    "**Python considers the first item in a list to be at position 0, not position 1.** This is true of most programming languages, and the reason has to do with how the list operations are implemented at a lower level. If you’re receiving unexpected results, determine whether you are making a simple off-by-one error."
   ]
  },
  {
   "cell_type": "markdown",
   "metadata": {},
   "source": [
    "#### Using Individual Values from a List\n",
    "You can use individual values from a list just as you would any other variable. For example, you can use concatenation to create a message based on a value from a list.\n",
    "Let’s try pulling the first bicycle from the list and composing a message using that value."
   ]
  },
  {
   "cell_type": "code",
   "execution_count": 7,
   "metadata": {},
   "outputs": [
    {
     "name": "stdout",
     "output_type": "stream",
     "text": [
      "the first element in List bicycles is Trek\n"
     ]
    }
   ],
   "source": [
    "print(\"the first element in List bicycles\"+\" is \"+bicycles[0].title())"
   ]
  },
  {
   "cell_type": "markdown",
   "metadata": {},
   "source": [
    "#### Changing, Adding, and Removing Elements\n",
    "**Most lists you create will be dynamic, meaning you’ll build a list and then add and remove elements from it as your program runs its course.** For example, you might create a game in which a player has to shoot aliens out of the sky. You could store the initial set of aliens in a list and then remove an alien from the list each time one is shot down. Each time a new alien appears on the screen, you add it to the list. Your list of aliens will decrease and increase in length throughout the course of the game. \n",
    "##### Modifying Elements in a List（修改列表元素）\n"
   ]
  },
  {
   "cell_type": "markdown",
   "metadata": {},
   "source": [
    "The syntax for modifying an element is similar to the syntax for accessing an element in a list. To change an element, use the name of the list followed by the index of the element you want to change, and then provide the new value you want that item to have."
   ]
  },
  {
   "cell_type": "code",
   "execution_count": 35,
   "metadata": {},
   "outputs": [
    {
     "name": "stdout",
     "output_type": "stream",
     "text": [
      "['trek', 'cannondable', 'redline', 'specialized']\n",
      "shuarik\n"
     ]
    }
   ],
   "source": [
    "print(bicycles)\n",
    "bicycles[0]=\"shuarik\"\n",
    "print(bicycles[0])"
   ]
  },
  {
   "cell_type": "markdown",
   "metadata": {},
   "source": [
    "##### Adding Elements to a List\n",
    "###### Appending Elements to the End of a List\n",
    "The simplest way to add a new element to a list is to *append* the item to the list. When you append an item to a list, the new element is added to the end of the list. **The append() method makes it easy to build lists dynamically**."
   ]
  },
  {
   "cell_type": "code",
   "execution_count": 37,
   "metadata": {},
   "outputs": [
    {
     "name": "stdout",
     "output_type": "stream",
     "text": [
      "['shuarik', 'cannondable', 'redline', 'specialized', 'physics']\n",
      "['shuarik', 'cannondable', 'redline', 'specialized', 'physics', 'physics']\n",
      "['shuarik', 'cannondable', 'redline', 'specialized', 'physics', 'physics', 'god']\n"
     ]
    }
   ],
   "source": [
    "print(bicycles)\n",
    "bicycles.append(\"physics\")\n",
    "print(bicycles)\n",
    "bicycles.append(\"god\")\n",
    "print(bicycles)"
   ]
  },
  {
   "cell_type": "markdown",
   "metadata": {},
   "source": [
    "###### Inserting Elements into a List\n",
    "You can add a new element at any position in your list by using the ***insert()*** method. You **do this by specifying the index of the new element and the value of the new item**."
   ]
  },
  {
   "cell_type": "code",
   "execution_count": 59,
   "metadata": {},
   "outputs": [
    {
     "name": "stdout",
     "output_type": "stream",
     "text": [
      "['trek', 'cannondable', 'redline', 'specialized']\n",
      "['trek', 'chemistry', 'cannondable', 'redline', 'specialized']\n"
     ]
    }
   ],
   "source": [
    "print(bicycles)\n",
    "bicycles.insert(1,\"chemistry\")\n",
    "print(bicycles)"
   ]
  },
  {
   "cell_type": "markdown",
   "metadata": {},
   "source": [
    "##### Removing Elements from a List\n",
    "###### Removing an Item Using the del statement\n",
    "If you **know the position of the item** you want to remove from a list, you can use the ***del*** statement. "
   ]
  },
  {
   "cell_type": "code",
   "execution_count": 60,
   "metadata": {},
   "outputs": [
    {
     "name": "stdout",
     "output_type": "stream",
     "text": [
      "['trek', 'chemistry', 'cannondable', 'redline', 'specialized']\n",
      "['chemistry', 'cannondable', 'redline', 'specialized']\n"
     ]
    }
   ],
   "source": [
    "print(bicycles)\n",
    "del bicycles[0]\n",
    "print(bicycles)"
   ]
  },
  {
   "cell_type": "markdown",
   "metadata": {},
   "source": [
    "###### Removing an Item Using the pop() Method\n",
    "Sometimes you’ll want to **use the value of an item after you remove it from a list**. For example, you might want to get the x and y position of an alien that \n",
    "was just shot down, so you can draw an explosion at that position. In a web application, you might want to remove a user from a list of active members and then add that user to a list of inactive members.The ***pop()*** method **removes the last item in a list, but it lets you work with that item after removing it**. The term pop comes from thinking of a list as a stack of items and popping one item off the top of the stack. In this analogy, the top of a stack corresponds to the end of a list."
   ]
  },
  {
   "cell_type": "code",
   "execution_count": 40,
   "metadata": {},
   "outputs": [
    {
     "name": "stdout",
     "output_type": "stream",
     "text": [
      "['shuarik', 'cannondable', 'redline', 'specialized', 'physics', 'physics', 'god']\n",
      "['shuarik', 'cannondable', 'redline', 'specialized', 'physics', 'physics']\n",
      "god\n"
     ]
    }
   ],
   "source": [
    "print(bicycles)\n",
    "popped_bicycles=bicycles.pop()\n",
    "print(bicycles)\n",
    "print(popped_bicycles)"
   ]
  },
  {
   "cell_type": "markdown",
   "metadata": {},
   "source": [
    "###### Popping Items from any Position in a List\n",
    "You can actually use ***pop()*** to remove an item in a list at any position by **including the index of the item you want to remove in parentheses**."
   ]
  },
  {
   "cell_type": "code",
   "execution_count": 41,
   "metadata": {},
   "outputs": [
    {
     "name": "stdout",
     "output_type": "stream",
     "text": [
      "shuarik\n"
     ]
    }
   ],
   "source": [
    "popped1_bicycle=bicycles.pop(0)\n",
    "print(popped1_bicycle)"
   ]
  },
  {
   "cell_type": "markdown",
   "metadata": {},
   "source": [
    "###### Removing an Item by value\n",
    "Sometimes you won’t know the position of the value you want to remove from a list. If you only know the value of the item you want to remove, you can use the ***remove()*** method."
   ]
  },
  {
   "cell_type": "code",
   "execution_count": 62,
   "metadata": {},
   "outputs": [
    {
     "name": "stdout",
     "output_type": "stream",
     "text": [
      "['chemistry', 'cannondable', 'redline', 'specialized']\n",
      "['chemistry', 'cannondable', 'specialized']\n"
     ]
    }
   ],
   "source": [
    "print(bicycles)\n",
    "bicycles.remove(\"redline\")\n",
    "print(bicycles)"
   ]
  },
  {
   "cell_type": "markdown",
   "metadata": {},
   "source": [
    "The ***remove()*** method deletes only the first occurrence of the value you specify. If there’s a possibility the\n",
    "value appears more than once in the list, you’ll need to use a loop to determine if all occurrences of the value have been removed. You’ll learn how to do this in Chapter 6.\n",
    "\n",
    "#### Organizing a List\n",
    "Often, your lists will be created in an unpredictable order, because you can’t lways control the order in which your users provide their data. Although this is unavoidable in most circumstances, you’ll frequently want to present your information in a particular order. Sometimes you’ll want to preserve the original order of your list, and other times you’ll want to change the original order. Python provides a number of different ways to organize your lists, depending on the situation.\n",
    "##### Sorting a List Permanently with the sort() Method\n",
    "Python’s ***sort()*** method makes it relatively easy to sort a list. Imagine we have a list of cars and want to change the order of the list to store them alphabetically. To keep the task simple, let’s assume that all the values in the list are lowercase"
   ]
  },
  {
   "cell_type": "code",
   "execution_count": 63,
   "metadata": {},
   "outputs": [
    {
     "name": "stdout",
     "output_type": "stream",
     "text": [
      "['chemistary', 'god', 'loong', 'physics', 'sliver']\n"
     ]
    }
   ],
   "source": [
    "cars=['physics','chemistary','sliver','god','loong']\n",
    "cars.sort()\n",
    "print(cars)"
   ]
  },
  {
   "cell_type": "markdown",
   "metadata": {},
   "source": [
    "##### Sorting a List Temporarily with the sorted() Function\n",
    "To **maintain the original order of a list** but **present it in a sorted order**, you can use the **sorted() function**. The sorted() function lets you display your list in a particular order but doesn’t affect the actual order of the list. Let’s try this function on the list of cars. \n",
    "The sorted() function can also accept a **reverse=True \n",
    "argument** if you want to **display a list in reverse alphabetical order**.\n",
    "Sorting a list alphabetically is a bit more complicated when all the values are not in lowercase. There are several ways to interpret capital letters when you’re deciding on a sort order, and specifying the exact order can be more complex than we want to deal with at this time. However, most approaches to sorting will build directly on what you learned in this section."
   ]
  },
  {
   "cell_type": "code",
   "execution_count": 5,
   "metadata": {},
   "outputs": [
    {
     "name": "stdout",
     "output_type": "stream",
     "text": [
      "['chemistary', 'god', 'loong', 'physics', 'sliver']\n",
      "['physics', 'chemistary', 'sliver', 'god', 'loong']\n"
     ]
    }
   ],
   "source": [
    "cars=['physics','chemistary','sliver','god','loong']\n",
    "print(sorted(cars))\n",
    "print(cars)"
   ]
  },
  {
   "cell_type": "markdown",
   "metadata": {},
   "source": [
    "##### Printing a List in Reverse Order\n",
    "To reverse the original order of a list, you can use the ***reverse() method***. If we originally stored the list of cars in chronological order according to when we owned them, we could easily rearrange the list into reverse chronological order:"
   ]
  },
  {
   "cell_type": "code",
   "execution_count": 14,
   "metadata": {},
   "outputs": [
    {
     "name": "stdout",
     "output_type": "stream",
     "text": [
      "['loong', 'god', 'sliver', 'chemistary', 'physics']\n"
     ]
    }
   ],
   "source": [
    "cars.reverse()\n",
    "print(cars)"
   ]
  },
  {
   "cell_type": "markdown",
   "metadata": {},
   "source": [
    "**reverse() doesn’t sort backward alphabetically; it simply reverses the order of the list**"
   ]
  },
  {
   "cell_type": "markdown",
   "metadata": {},
   "source": [
    "##### Finding the Length of a List\n",
    "Python counts the items in a list starting with one, so you shouldn’t run into any off by-one errors when determining the length of a list."
   ]
  },
  {
   "cell_type": "code",
   "execution_count": 15,
   "metadata": {},
   "outputs": [
    {
     "data": {
      "text/plain": [
       "5"
      ]
     },
     "execution_count": 15,
     "metadata": {},
     "output_type": "execute_result"
    }
   ],
   "source": [
    "len(cars)"
   ]
  },
  {
   "cell_type": "markdown",
   "metadata": {},
   "source": [
    "#### Avoiding Index Errors When Working with Lists\n",
    "One type of error is common to see when you’re working with lists for the first time. Let’s  say you have a list with three items, and you ask for the fourth item:\n",
    "\n",
    "If an index error occurs and you can’t figure out how to resolve it, try printing your list or just printing the length of your list. Your list might look much different than you thought it did, especially if it has been managed dynamically by your program. Seeing the actual list, or the exact number of items in your list, can help you sort out such logical errors."
   ]
  },
  {
   "cell_type": "code",
   "execution_count": 17,
   "metadata": {},
   "outputs": [
    {
     "name": "stdout",
     "output_type": "stream",
     "text": [
      "5\n"
     ]
    },
    {
     "ename": "IndexError",
     "evalue": "list index out of range",
     "output_type": "error",
     "traceback": [
      "\u001b[1;31m---------------------------------------------------------------------------\u001b[0m",
      "\u001b[1;31mIndexError\u001b[0m                                Traceback (most recent call last)",
      "Cell \u001b[1;32mIn[17], line 2\u001b[0m\n\u001b[0;32m      1\u001b[0m \u001b[38;5;28mprint\u001b[39m(\u001b[38;5;28mlen\u001b[39m(cars))\n\u001b[1;32m----> 2\u001b[0m \u001b[38;5;28mprint\u001b[39m(cars[\u001b[38;5;241m5\u001b[39m])\n",
      "\u001b[1;31mIndexError\u001b[0m: list index out of range"
     ]
    }
   ],
   "source": [
    "print(len(cars))\n",
    "print(cars[5])"
   ]
  },
  {
   "cell_type": "markdown",
   "metadata": {},
   "source": [
    "### Chapter4 Working with Lists"
   ]
  },
  {
   "cell_type": "markdown",
   "metadata": {},
   "source": [
    "#### Looping Through an Entire List\n",
    "You’ll often want to **run through all entries in a list**, **performing the same task with each item**. For example, in a game you might want to move every element on the screen by the same amount, or in a list of numbers you might want to perform the same statistical operation on every element. Or perhaps you’ll want to display each headline from a list of articles on a web\n",
    "site. When you want to do the same action with every item in a list, you can use Python’s ***for loop***.\n"
   ]
  },
  {
   "cell_type": "code",
   "execution_count": 2,
   "metadata": {},
   "outputs": [
    {
     "name": "stdout",
     "output_type": "stream",
     "text": [
      "classical mechanics\n",
      "quantum mechanics\n",
      "probability\n"
     ]
    }
   ],
   "source": [
    "physics=[\"classical mechanics\",\"quantum mechanics\",\"probability\"]\n",
    "for item in physics:\n",
    "    print(item)\n",
    "    "
   ]
  },
  {
   "cell_type": "markdown",
   "metadata": {},
   "source": [
    "#### Doing More Work With in a for Loop\n",
    "You can do just about anything with each item in a ***for loop***."
   ]
  },
  {
   "cell_type": "code",
   "execution_count": 7,
   "metadata": {},
   "outputs": [
    {
     "name": "stdout",
     "output_type": "stream",
     "text": [
      "I love learning classical mechanics!\n",
      "I think it is beautiful!\n",
      "\n",
      "I love learning quantum mechanics!\n",
      "I think it is beautiful!\n",
      "\n",
      "I love learning probability!\n",
      "I think it is beautiful!\n",
      "\n",
      "probability\n"
     ]
    }
   ],
   "source": [
    "for item in physics:\n",
    "    print(\"I love learning \"+item+ \"!\")\n",
    "    print(\"I think it is beautiful!\\n\")"
   ]
  },
  {
   "cell_type": "markdown",
   "metadata": {},
   "source": [
    "#### Avoiding Identation(缩进) Errors\n",
    "**Python uses indentation to determine when one line of code is connected to the line above it**. Python’s use of indentation makes code very easy to read. Basically, it uses whitespace to force you to write neatly formatted code with a clear visual structure. In longer Python programs, you’ll notice blocks of code indented \n",
    "at a few different levels. These indentation levels help you gain a general sense of the overall program’s organization. As you begin to write code that relies on proper indentation, you’ll need to watch for a few common indentation errors. \n",
    "##### Forgetting to Ident\n",
    "##### Forgetting to Ident Additional Lines\n",
    "##### Identing Unnecessarily\n",
    "##### Identing Unnecessarily After the Loop"
   ]
  },
  {
   "cell_type": "code",
   "execution_count": 8,
   "metadata": {},
   "outputs": [
    {
     "ename": "IndentationError",
     "evalue": "unexpected indent (1935187183.py, line 2)",
     "output_type": "error",
     "traceback": [
      "\u001b[1;36m  Cell \u001b[1;32mIn[8], line 2\u001b[1;36m\u001b[0m\n\u001b[1;33m    print(message)\u001b[0m\n\u001b[1;37m    ^\u001b[0m\n\u001b[1;31mIndentationError\u001b[0m\u001b[1;31m:\u001b[0m unexpected indent\n"
     ]
    }
   ],
   "source": [
    "message=\"hello world\"\n",
    " print(message)"
   ]
  },
  {
   "cell_type": "markdown",
   "metadata": {},
   "source": [
    "##### Forgetting the colon(冒号)"
   ]
  },
  {
   "cell_type": "code",
   "execution_count": 9,
   "metadata": {},
   "outputs": [
    {
     "ename": "SyntaxError",
     "evalue": "expected ':' (2562300286.py, line 1)",
     "output_type": "error",
     "traceback": [
      "\u001b[1;36m  Cell \u001b[1;32mIn[9], line 1\u001b[1;36m\u001b[0m\n\u001b[1;33m    for item in physics\u001b[0m\n\u001b[1;37m                       ^\u001b[0m\n\u001b[1;31mSyntaxError\u001b[0m\u001b[1;31m:\u001b[0m expected ':'\n"
     ]
    }
   ],
   "source": [
    "for item in physics\n",
    "    print(\"I love learning \"+item+ \"!\")\n",
    "    print(\"I think it is beautiful!\\n\")"
   ]
  },
  {
   "cell_type": "markdown",
   "metadata": {},
   "source": [
    "#### Making Numerical Lists\n",
    "In data visualizations, you’ll almost always work with sets of numbers, such as temperatures, distances, population sizes, or latitude and longitude values, among other types of numerical sets. Lists are ideal for storing sets of numbers, and Python provides a number of tools to help you work efficiently with lists of numbers. \n",
    "\n",
    "##### Using the ***range()*** Function\n",
    "Python’s ***range()*** function makes it easy to generate a series of numbers. For example, you can use the ***range() function*** to print a series of numbers like this:"
   ]
  },
  {
   "cell_type": "code",
   "execution_count": 11,
   "metadata": {},
   "outputs": [
    {
     "name": "stdout",
     "output_type": "stream",
     "text": [
      "[1, 2, 3, 4]\n"
     ]
    }
   ],
   "source": [
    "values=[]\n",
    "for value in range(1,5):\n",
    "    values.append(value)\n",
    "print(values)"
   ]
  },
  {
   "cell_type": "markdown",
   "metadata": {},
   "source": [
    "In this example, range() prints only the numbers 1 through 4. This is another result of **the off-by-one behavior** you’ll see often in programming languages. The ***range()*** function causes Python to **start counting at the first value you give it, and it stops when it reaches the second value you provide**. Because it stops at that second value, ***the output never contains the end value***, which would have been 5 in this case.\n",
    "\n",
    "##### Using range() to Make a List of Numbers\n",
    "If you want to make a list of numbers, you can **convert the results of range() directly into a list using the list() function**. When you wrap list() around a call to the range() function, the output will be a list of numbers."
   ]
  },
  {
   "cell_type": "code",
   "execution_count": 12,
   "metadata": {},
   "outputs": [
    {
     "data": {
      "text/plain": [
       "[0, 1, 2, 3, 4]"
      ]
     },
     "execution_count": 12,
     "metadata": {},
     "output_type": "execute_result"
    }
   ],
   "source": [
    "list(range(0,5))"
   ]
  },
  {
   "cell_type": "markdown",
   "metadata": {},
   "source": [
    "We can also use the range() function to tell Python to skip numbers in a given range. For example, here’s how we would list the even numbers between 1 and 10:"
   ]
  },
  {
   "cell_type": "code",
   "execution_count": 17,
   "metadata": {},
   "outputs": [
    {
     "name": "stdout",
     "output_type": "stream",
     "text": [
      "[0, 0, 2, 2, 4, 4, 6, 6, 8, 8, 10, 10, 12, 12, 14, 14, 16, 16, 18, 18]\n"
     ]
    }
   ],
   "source": [
    "message=[]\n",
    "for value in range(0,19,2):\n",
    "    message.append(value)\n",
    "    message.insert(-1,value)\n",
    "print(message)"
   ]
  },
  {
   "cell_type": "markdown",
   "metadata": {},
   "source": [
    "##### Simple Statistics with a List of Numbers"
   ]
  },
  {
   "cell_type": "code",
   "execution_count": 18,
   "metadata": {},
   "outputs": [
    {
     "name": "stdout",
     "output_type": "stream",
     "text": [
      "-10 8 -10\n"
     ]
    }
   ],
   "source": [
    "digits=list(range(-10,10,2))\n",
    "print(min(digits),max(digits),sum(digits))"
   ]
  },
  {
   "cell_type": "markdown",
   "metadata": {},
   "source": [
    "##### List Comprehensions\n",
    "The approach described earlier for generating the list squares consisted of using three or four lines of code. A list comprehension allows you to generate this same list in just one line of code. A list comprehension combines the for loop and the creation of new elements into one line, and automatically appends each new element."
   ]
  },
  {
   "cell_type": "code",
   "execution_count": 6,
   "metadata": {},
   "outputs": [
    {
     "name": "stdout",
     "output_type": "stream",
     "text": [
      "[1, 4, 9, 16, 25, 36, 49, 64, 81, 100]\n"
     ]
    }
   ],
   "source": [
    "squares=list(value**2 for value in range(1,11))\n",
    "print(squares)"
   ]
  },
  {
   "cell_type": "markdown",
   "metadata": {},
   "source": [
    "#### Working with Part of a List\n",
    "##### Slicing a List（分割列表）\n",
    "To make a slice, you specify the index of the first and last elements you want to work with. As with the range() function, Python stops one item before the second index you specify.\n"
   ]
  },
  {
   "cell_type": "code",
   "execution_count": 13,
   "metadata": {},
   "outputs": [
    {
     "name": "stdout",
     "output_type": "stream",
     "text": [
      "[1, 4, 9, 16]\n",
      "[1, 4, 9, 16, 25]\n",
      "[16, 25, 36, 49, 64, 81, 100]\n",
      "[64, 81, 100]\n"
     ]
    }
   ],
   "source": [
    "print(squares[0:4])\n",
    "print(squares[:5])\n",
    "print(squares[3:])\n",
    "print(squares[-3:])"
   ]
  },
  {
   "cell_type": "markdown",
   "metadata": {},
   "source": [
    "##### Looping Through a Slice\n"
   ]
  },
  {
   "cell_type": "code",
   "execution_count": 15,
   "metadata": {},
   "outputs": [
    {
     "name": "stdout",
     "output_type": "stream",
     "text": [
      "36\n",
      "49\n",
      "64\n",
      "81\n",
      "100\n"
     ]
    }
   ],
   "source": [
    "for number in squares[5:]:\n",
    "    print(number)"
   ]
  },
  {
   "cell_type": "markdown",
   "metadata": {},
   "source": [
    "##### Copying a List\n",
    "Often, you’ll want to start with an existing list and make an entirely new list based on the first one. Let’s explore how copying a list works and examine one situation in which copying a list is useful. To copy a list, you can make a slice that includes the entire original list by **omitting the first index and the second index ([:])**. This tells Python to make a slice that starts at the first item and ends with the last item, producing a copy of the entire list."
   ]
  },
  {
   "cell_type": "code",
   "execution_count": 18,
   "metadata": {},
   "outputs": [
    {
     "name": "stdout",
     "output_type": "stream",
     "text": [
      "[1, 4, 9, 16, 25, 36, 49, 64, 81, 100, 'god'] [1, 4, 9, 16, 25, 36, 49, 64, 81, 100]\n"
     ]
    }
   ],
   "source": [
    "numbers=squares\n",
    "numbers1=squares[:]\n",
    "squares.append('god')\n",
    "print(numbers,numbers1)"
   ]
  },
  {
   "cell_type": "markdown",
   "metadata": {},
   "source": [
    "Instead of storing a **copy** of **squares** in numbers , we set **numbers equal to squares**. This syntax actually tells Python to **connect the new variable numbers to the list that is already contained in squares**, so now both variables point to the same list. As a result, when we add 'god' to squares, it will also appear in **numbers**. "
   ]
  },
  {
   "cell_type": "markdown",
   "metadata": {},
   "source": [
    "#### Tuples\n",
    "However, sometimes you’ll want to create a list of items that cannot change. Tuples allow you to do just that. Python refers to values that cannot change as ***immutable***, and **an immutable list is called a ***tuple*****.\n",
    "\n",
    "##### Defining a Tuple\n",
    "A tuple looks just **like a list except you use parentheses instead of square brackets**. Once you define a tuple, you can access individual elements by using each item’s index, just as you would for a list."
   ]
  },
  {
   "cell_type": "code",
   "execution_count": 26,
   "metadata": {},
   "outputs": [
    {
     "name": "stdout",
     "output_type": "stream",
     "text": [
      "(1, 4, 9, 16)\n"
     ]
    },
    {
     "ename": "TypeError",
     "evalue": "'tuple' object does not support item assignment",
     "output_type": "error",
     "traceback": [
      "\u001b[1;31m---------------------------------------------------------------------------\u001b[0m",
      "\u001b[1;31mTypeError\u001b[0m                                 Traceback (most recent call last)",
      "Cell \u001b[1;32mIn[26], line 3\u001b[0m\n\u001b[0;32m      1\u001b[0m numbers2\u001b[38;5;241m=\u001b[39m\u001b[38;5;28mtuple\u001b[39m(value\u001b[38;5;241m*\u001b[39m\u001b[38;5;241m*\u001b[39m\u001b[38;5;241m2\u001b[39m \u001b[38;5;28;01mfor\u001b[39;00m value \u001b[38;5;129;01min\u001b[39;00m \u001b[38;5;28mrange\u001b[39m(\u001b[38;5;241m1\u001b[39m,\u001b[38;5;241m5\u001b[39m))\n\u001b[0;32m      2\u001b[0m \u001b[38;5;28mprint\u001b[39m(numbers2)\n\u001b[1;32m----> 3\u001b[0m numbers2[\u001b[38;5;241m0\u001b[39m]\u001b[38;5;241m=\u001b[39m\u001b[38;5;241m1\u001b[39m\n",
      "\u001b[1;31mTypeError\u001b[0m: 'tuple' object does not support item assignment"
     ]
    }
   ],
   "source": [
    "numbers2=tuple(value**2 for value in range(1,5))\n",
    "print(numbers2)\n",
    "numbers2[0]=1"
   ]
  },
  {
   "cell_type": "markdown",
   "metadata": {},
   "source": [
    "##### Looping Through All Values in a tuple\n",
    "You can loop over all the values in a tuple using a for loop, just as you did with a list"
   ]
  },
  {
   "cell_type": "code",
   "execution_count": 24,
   "metadata": {},
   "outputs": [
    {
     "name": "stdout",
     "output_type": "stream",
     "text": [
      "1\n",
      "4\n",
      "9\n"
     ]
    }
   ],
   "source": [
    "for number in numbers2[0:3]:\n",
    "    print(number)"
   ]
  },
  {
   "cell_type": "markdown",
   "metadata": {},
   "source": [
    "##### Writing over a Tuple\n",
    "Although you can’t modify a tuple, you can assign a new value to a variable that holds a tuple. So if we wanted to change a tuple, we could redefine the entire tuple:"
   ]
  },
  {
   "cell_type": "code",
   "execution_count": 27,
   "metadata": {},
   "outputs": [
    {
     "name": "stdout",
     "output_type": "stream",
     "text": [
      "(1, 4, 9, 16)\n",
      "(0, 1)\n"
     ]
    }
   ],
   "source": [
    "print(numbers2)\n",
    "numbers2=(0,1)\n",
    "print(numbers2)"
   ]
  },
  {
   "cell_type": "markdown",
   "metadata": {},
   "source": [
    "When compared with lists, tuples are simple data structures. Use them when you want to store a set of values that should not be changed through out the life of a program.\n",
    "\n",
    "### Chapter5 If Statements\n",
    "Programming often involves examining a set of conditions and deciding which action to take based on those conditions. Python’s if statement allows you to examine the current state of a program and respond appropriately \n",
    "to that state.\n",
    "\n",
    "#### Conditional Tests\n",
    "At the heart of every if statement is **an expression that can be evaluated as True or False** and is called **a conditional test**. Python uses the values True and \n",
    "False to decide whether the code in an if statement should be executed. If a conditional test evaluates to True, Python executes the code following the if \n",
    "statement. If the test evaluates to False, Python ignores the code following the if statement.\n",
    "\n",
    "##### Checking for Equality\n",
    "Most conditional tests compare the current value of a variable to a specific value of interest. The simplest conditional test checks whether the value of a variable is equal to the value of interest:"
   ]
  },
  {
   "cell_type": "code",
   "execution_count": 29,
   "metadata": {},
   "outputs": [
    {
     "name": "stdout",
     "output_type": "stream",
     "text": [
      "True\n",
      "False\n"
     ]
    }
   ],
   "source": [
    "number=1\n",
    "print(number==1)\n",
    "print(number==2)"
   ]
  },
  {
   "cell_type": "markdown",
   "metadata": {},
   "source": [
    "##### Checking for Inequality\n"
   ]
  },
  {
   "cell_type": "code",
   "execution_count": 30,
   "metadata": {},
   "outputs": [
    {
     "name": "stdout",
     "output_type": "stream",
     "text": [
      "True\n",
      "False\n"
     ]
    }
   ],
   "source": [
    "print(number!=2)\n",
    "print(number!=1)"
   ]
  },
  {
   "cell_type": "markdown",
   "metadata": {},
   "source": [
    "##### Numerical Comparisons\n"
   ]
  },
  {
   "cell_type": "code",
   "execution_count": 32,
   "metadata": {},
   "outputs": [
    {
     "name": "stdout",
     "output_type": "stream",
     "text": [
      "False True True\n"
     ]
    }
   ],
   "source": [
    "print(number<1,number<2,number<=1)"
   ]
  },
  {
   "cell_type": "markdown",
   "metadata": {},
   "source": [
    "#### Checking Multiple Conditions\n",
    "The keywords ***and*** and ***or*** can help you\n",
    "#####  Using and or to Check Multiple Conditions"
   ]
  },
  {
   "cell_type": "code",
   "execution_count": 35,
   "metadata": {},
   "outputs": [
    {
     "name": "stdout",
     "output_type": "stream",
     "text": [
      "True\n",
      "True\n"
     ]
    }
   ],
   "source": [
    "print(number<=1 and number>=0)\n",
    "print(number!=1 or number>0)"
   ]
  },
  {
   "cell_type": "markdown",
   "metadata": {},
   "source": [
    "#### Checking Whether a Value is in a List\n",
    "To find out whether a particular value is already in a list, use the keyword ***in***. "
   ]
  },
  {
   "cell_type": "code",
   "execution_count": 1,
   "metadata": {},
   "outputs": [
    {
     "data": {
      "text/plain": [
       "True"
      ]
     },
     "execution_count": 1,
     "metadata": {},
     "output_type": "execute_result"
    }
   ],
   "source": [
    "physics=[\"quantum mechanics\",\"Classical mechanical\"]\n",
    "\"quantum mechanics\" in physics"
   ]
  },
  {
   "cell_type": "markdown",
   "metadata": {},
   "source": [
    "#### Checking Whether a Value Is Not in a List\n",
    "You can use the keyword ***not*** in this situation. "
   ]
  },
  {
   "cell_type": "code",
   "execution_count": 2,
   "metadata": {},
   "outputs": [
    {
     "data": {
      "text/plain": [
       "True"
      ]
     },
     "execution_count": 2,
     "metadata": {},
     "output_type": "execute_result"
    }
   ],
   "source": [
    "\"chemistry\" not in physics"
   ]
  },
  {
   "cell_type": "markdown",
   "metadata": {},
   "source": [
    "#### Boolean Expressions\n",
    "**A Boolean expression is just another name for a conditional test**. A ***Boolean value*** is either **True** or **False**, just like the value of a conditional expression after it has been evaluated. Boolean values provide an efficient way to track the state of a program or a particular condition that is important in your program."
   ]
  },
  {
   "cell_type": "code",
   "execution_count": 3,
   "metadata": {},
   "outputs": [],
   "source": [
    "game_active=True"
   ]
  },
  {
   "cell_type": "markdown",
   "metadata": {},
   "source": [
    "#### if Statements\n",
    "When you understand conditional tests, you can start writing if statements. Several different kinds of if statements exist, and your choice of which to use depends on the number of conditions you need to test.\n",
    "\n",
    "##### Simple if Statements\n"
   ]
  },
  {
   "cell_type": "code",
   "execution_count": 5,
   "metadata": {},
   "outputs": [
    {
     "name": "stdout",
     "output_type": "stream",
     "text": [
      "you are already a adult!\n"
     ]
    }
   ],
   "source": [
    "# if conditional_test:\n",
    "#   do something\n",
    "age=19\n",
    "if age>=18:\n",
    "    print(\"you are already a adult!\")"
   ]
  },
  {
   "cell_type": "markdown",
   "metadata": {},
   "source": [
    "##### if-else Statements\n",
    "Often, you’ll want to take one action when a conditional test passes and a different action in all other cases. Python’s ***if-else*** syntax makes this possible. "
   ]
  },
  {
   "cell_type": "code",
   "execution_count": 8,
   "metadata": {},
   "outputs": [
    {
     "name": "stdout",
     "output_type": "stream",
     "text": [
      "17you are teenager!\n",
      "19you are already a adult!\n"
     ]
    }
   ],
   "source": [
    "for age in [17,19]:\n",
    "    if age>=18:\n",
    "        print(str(age)+\" you are already a adult!\")\n",
    "    else:\n",
    "        print(str(age)+\" you are teenager!\")\n",
    "    "
   ]
  },
  {
   "cell_type": "markdown",
   "metadata": {},
   "source": [
    "##### The if-elid-else Chain\n",
    "Often, you’ll need to test more than two possible situations, and to evaluate these you can use **Python’s if-elif-else syntax**. Python executes only one block in an if-elif-else chain. It runs each conditional test in order until one passes. When a test passes, the code following that test is executed and **Python skips the rest of the tests**."
   ]
  },
  {
   "cell_type": "code",
   "execution_count": 11,
   "metadata": {},
   "outputs": [
    {
     "name": "stdout",
     "output_type": "stream",
     "text": [
      "cost $5\n"
     ]
    }
   ],
   "source": [
    "age=12\n",
    "if age<4:\n",
    "    print(\"your cost is $0\")\n",
    "elif age<18:\n",
    "    print(\"cost $5\")\n",
    "else:\n",
    "    print(\"cost is $10\")"
   ]
  },
  {
   "cell_type": "code",
   "execution_count": null,
   "metadata": {},
   "outputs": [],
   "source": []
  }
 ],
 "metadata": {
  "kernelspec": {
   "display_name": "base",
   "language": "python",
   "name": "python3"
  },
  "language_info": {
   "codemirror_mode": {
    "name": "ipython",
    "version": 3
   },
   "file_extension": ".py",
   "mimetype": "text/x-python",
   "name": "python",
   "nbconvert_exporter": "python",
   "pygments_lexer": "ipython3",
   "version": "3.12.3"
  }
 },
 "nbformat": 4,
 "nbformat_minor": 2
}
